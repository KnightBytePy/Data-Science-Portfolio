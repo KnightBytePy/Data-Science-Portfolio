{
 "cells": [
  {
   "cell_type": "markdown",
   "id": "70bbb29c-59bd-4e45-ba5f-4ee83189a27c",
   "metadata": {},
   "source": [
    "# Predicting Customer Churn "
   ]
  },
  {
   "cell_type": "code",
   "execution_count": 34,
   "id": "4ab732d6-41d5-448f-8339-8c9c1412014e",
   "metadata": {},
   "outputs": [],
   "source": [
    "import pandas as pd \n",
    "import matplotlib.pyplot as plt\n",
    "import seaborn as sns \n",
    "import numpy as np "
   ]
  },
  {
   "cell_type": "code",
   "execution_count": 35,
   "id": "abf4f295-4737-4b65-894c-fa04f4fb1070",
   "metadata": {},
   "outputs": [
    {
     "data": {
      "text/html": [
       "<div>\n",
       "<style scoped>\n",
       "    .dataframe tbody tr th:only-of-type {\n",
       "        vertical-align: middle;\n",
       "    }\n",
       "\n",
       "    .dataframe tbody tr th {\n",
       "        vertical-align: top;\n",
       "    }\n",
       "\n",
       "    .dataframe thead th {\n",
       "        text-align: right;\n",
       "    }\n",
       "</style>\n",
       "<table border=\"1\" class=\"dataframe\">\n",
       "  <thead>\n",
       "    <tr style=\"text-align: right;\">\n",
       "      <th></th>\n",
       "      <th>CustomerID</th>\n",
       "      <th>Age</th>\n",
       "      <th>Gender</th>\n",
       "      <th>Tenure</th>\n",
       "      <th>MonthlyCharges</th>\n",
       "      <th>ContractType</th>\n",
       "      <th>InternetService</th>\n",
       "      <th>TotalCharges</th>\n",
       "      <th>TechSupport</th>\n",
       "      <th>Churn</th>\n",
       "    </tr>\n",
       "  </thead>\n",
       "  <tbody>\n",
       "    <tr>\n",
       "      <th>0</th>\n",
       "      <td>1</td>\n",
       "      <td>49</td>\n",
       "      <td>Male</td>\n",
       "      <td>4</td>\n",
       "      <td>88.35</td>\n",
       "      <td>Month-to-Month</td>\n",
       "      <td>Fiber Optic</td>\n",
       "      <td>353.40</td>\n",
       "      <td>Yes</td>\n",
       "      <td>Yes</td>\n",
       "    </tr>\n",
       "    <tr>\n",
       "      <th>1</th>\n",
       "      <td>2</td>\n",
       "      <td>43</td>\n",
       "      <td>Male</td>\n",
       "      <td>0</td>\n",
       "      <td>36.67</td>\n",
       "      <td>Month-to-Month</td>\n",
       "      <td>Fiber Optic</td>\n",
       "      <td>0.00</td>\n",
       "      <td>Yes</td>\n",
       "      <td>Yes</td>\n",
       "    </tr>\n",
       "    <tr>\n",
       "      <th>2</th>\n",
       "      <td>3</td>\n",
       "      <td>51</td>\n",
       "      <td>Female</td>\n",
       "      <td>2</td>\n",
       "      <td>63.79</td>\n",
       "      <td>Month-to-Month</td>\n",
       "      <td>Fiber Optic</td>\n",
       "      <td>127.58</td>\n",
       "      <td>No</td>\n",
       "      <td>Yes</td>\n",
       "    </tr>\n",
       "    <tr>\n",
       "      <th>3</th>\n",
       "      <td>4</td>\n",
       "      <td>60</td>\n",
       "      <td>Female</td>\n",
       "      <td>8</td>\n",
       "      <td>102.34</td>\n",
       "      <td>One-Year</td>\n",
       "      <td>DSL</td>\n",
       "      <td>818.72</td>\n",
       "      <td>Yes</td>\n",
       "      <td>Yes</td>\n",
       "    </tr>\n",
       "    <tr>\n",
       "      <th>4</th>\n",
       "      <td>5</td>\n",
       "      <td>42</td>\n",
       "      <td>Male</td>\n",
       "      <td>32</td>\n",
       "      <td>69.01</td>\n",
       "      <td>Month-to-Month</td>\n",
       "      <td>NaN</td>\n",
       "      <td>2208.32</td>\n",
       "      <td>No</td>\n",
       "      <td>Yes</td>\n",
       "    </tr>\n",
       "  </tbody>\n",
       "</table>\n",
       "</div>"
      ],
      "text/plain": [
       "   CustomerID  Age  Gender  Tenure  MonthlyCharges    ContractType  \\\n",
       "0           1   49    Male       4           88.35  Month-to-Month   \n",
       "1           2   43    Male       0           36.67  Month-to-Month   \n",
       "2           3   51  Female       2           63.79  Month-to-Month   \n",
       "3           4   60  Female       8          102.34        One-Year   \n",
       "4           5   42    Male      32           69.01  Month-to-Month   \n",
       "\n",
       "  InternetService  TotalCharges TechSupport Churn  \n",
       "0     Fiber Optic        353.40         Yes   Yes  \n",
       "1     Fiber Optic          0.00         Yes   Yes  \n",
       "2     Fiber Optic        127.58          No   Yes  \n",
       "3             DSL        818.72         Yes   Yes  \n",
       "4             NaN       2208.32          No   Yes  "
      ]
     },
     "execution_count": 35,
     "metadata": {},
     "output_type": "execute_result"
    }
   ],
   "source": [
    "df = pd.read_csv(r\"C:\\Users\\Knigh\\OneDrive\\Desktop\\DATA\\Kaggle\\Churn Prediction\\customer_churn_data.csv\")\n",
    "\n",
    "df.head(5)"
   ]
  },
  {
   "cell_type": "code",
   "execution_count": 36,
   "id": "8afd4f1b-ef14-4fee-8058-d25bccefcf63",
   "metadata": {},
   "outputs": [
    {
     "data": {
      "text/html": [
       "<div>\n",
       "<style scoped>\n",
       "    .dataframe tbody tr th:only-of-type {\n",
       "        vertical-align: middle;\n",
       "    }\n",
       "\n",
       "    .dataframe tbody tr th {\n",
       "        vertical-align: top;\n",
       "    }\n",
       "\n",
       "    .dataframe thead th {\n",
       "        text-align: right;\n",
       "    }\n",
       "</style>\n",
       "<table border=\"1\" class=\"dataframe\">\n",
       "  <thead>\n",
       "    <tr style=\"text-align: right;\">\n",
       "      <th></th>\n",
       "      <th>CustomerID</th>\n",
       "      <th>Age</th>\n",
       "      <th>Tenure</th>\n",
       "      <th>MonthlyCharges</th>\n",
       "      <th>TotalCharges</th>\n",
       "    </tr>\n",
       "  </thead>\n",
       "  <tbody>\n",
       "    <tr>\n",
       "      <th>count</th>\n",
       "      <td>1000.000000</td>\n",
       "      <td>1000.000000</td>\n",
       "      <td>1000.00000</td>\n",
       "      <td>1000.000000</td>\n",
       "      <td>1000.000000</td>\n",
       "    </tr>\n",
       "    <tr>\n",
       "      <th>mean</th>\n",
       "      <td>500.500000</td>\n",
       "      <td>44.674000</td>\n",
       "      <td>18.97300</td>\n",
       "      <td>74.391290</td>\n",
       "      <td>1404.364060</td>\n",
       "    </tr>\n",
       "    <tr>\n",
       "      <th>std</th>\n",
       "      <td>288.819436</td>\n",
       "      <td>9.797741</td>\n",
       "      <td>18.89257</td>\n",
       "      <td>25.712083</td>\n",
       "      <td>1571.755048</td>\n",
       "    </tr>\n",
       "    <tr>\n",
       "      <th>min</th>\n",
       "      <td>1.000000</td>\n",
       "      <td>12.000000</td>\n",
       "      <td>0.00000</td>\n",
       "      <td>30.000000</td>\n",
       "      <td>0.000000</td>\n",
       "    </tr>\n",
       "    <tr>\n",
       "      <th>25%</th>\n",
       "      <td>250.750000</td>\n",
       "      <td>38.000000</td>\n",
       "      <td>5.00000</td>\n",
       "      <td>52.357500</td>\n",
       "      <td>345.217500</td>\n",
       "    </tr>\n",
       "    <tr>\n",
       "      <th>50%</th>\n",
       "      <td>500.500000</td>\n",
       "      <td>45.000000</td>\n",
       "      <td>13.00000</td>\n",
       "      <td>74.060000</td>\n",
       "      <td>872.870000</td>\n",
       "    </tr>\n",
       "    <tr>\n",
       "      <th>75%</th>\n",
       "      <td>750.250000</td>\n",
       "      <td>51.000000</td>\n",
       "      <td>26.00000</td>\n",
       "      <td>96.102500</td>\n",
       "      <td>1900.175000</td>\n",
       "    </tr>\n",
       "    <tr>\n",
       "      <th>max</th>\n",
       "      <td>1000.000000</td>\n",
       "      <td>83.000000</td>\n",
       "      <td>122.00000</td>\n",
       "      <td>119.960000</td>\n",
       "      <td>12416.250000</td>\n",
       "    </tr>\n",
       "  </tbody>\n",
       "</table>\n",
       "</div>"
      ],
      "text/plain": [
       "        CustomerID          Age      Tenure  MonthlyCharges  TotalCharges\n",
       "count  1000.000000  1000.000000  1000.00000     1000.000000   1000.000000\n",
       "mean    500.500000    44.674000    18.97300       74.391290   1404.364060\n",
       "std     288.819436     9.797741    18.89257       25.712083   1571.755048\n",
       "min       1.000000    12.000000     0.00000       30.000000      0.000000\n",
       "25%     250.750000    38.000000     5.00000       52.357500    345.217500\n",
       "50%     500.500000    45.000000    13.00000       74.060000    872.870000\n",
       "75%     750.250000    51.000000    26.00000       96.102500   1900.175000\n",
       "max    1000.000000    83.000000   122.00000      119.960000  12416.250000"
      ]
     },
     "execution_count": 36,
     "metadata": {},
     "output_type": "execute_result"
    }
   ],
   "source": [
    "df.describe()"
   ]
  },
  {
   "cell_type": "code",
   "execution_count": 37,
   "id": "2cffe0ac-9194-48c5-ab22-6a15ffbdbb63",
   "metadata": {},
   "outputs": [
    {
     "name": "stdout",
     "output_type": "stream",
     "text": [
      "<class 'pandas.core.frame.DataFrame'>\n",
      "RangeIndex: 1000 entries, 0 to 999\n",
      "Data columns (total 10 columns):\n",
      " #   Column           Non-Null Count  Dtype  \n",
      "---  ------           --------------  -----  \n",
      " 0   CustomerID       1000 non-null   int64  \n",
      " 1   Age              1000 non-null   int64  \n",
      " 2   Gender           1000 non-null   object \n",
      " 3   Tenure           1000 non-null   int64  \n",
      " 4   MonthlyCharges   1000 non-null   float64\n",
      " 5   ContractType     1000 non-null   object \n",
      " 6   InternetService  703 non-null    object \n",
      " 7   TotalCharges     1000 non-null   float64\n",
      " 8   TechSupport      1000 non-null   object \n",
      " 9   Churn            1000 non-null   object \n",
      "dtypes: float64(2), int64(3), object(5)\n",
      "memory usage: 78.3+ KB\n"
     ]
    }
   ],
   "source": [
    "df.info()"
   ]
  },
  {
   "cell_type": "code",
   "execution_count": 38,
   "id": "9a7e4bf3-3835-4236-8f1f-9d8c0f15cc12",
   "metadata": {},
   "outputs": [],
   "source": [
    "#drop customer id - irrevant for this customer churn predicting project "
   ]
  },
  {
   "cell_type": "code",
   "execution_count": 39,
   "id": "b8d80a03-f53f-45a9-8970-6ec9316c0eb9",
   "metadata": {},
   "outputs": [],
   "source": [
    "df = df.drop(columns='CustomerID',axis=1)"
   ]
  },
  {
   "cell_type": "code",
   "execution_count": 40,
   "id": "224b5dfb-556f-4f93-944f-65e9dd501c0a",
   "metadata": {},
   "outputs": [
    {
     "data": {
      "text/html": [
       "<div>\n",
       "<style scoped>\n",
       "    .dataframe tbody tr th:only-of-type {\n",
       "        vertical-align: middle;\n",
       "    }\n",
       "\n",
       "    .dataframe tbody tr th {\n",
       "        vertical-align: top;\n",
       "    }\n",
       "\n",
       "    .dataframe thead th {\n",
       "        text-align: right;\n",
       "    }\n",
       "</style>\n",
       "<table border=\"1\" class=\"dataframe\">\n",
       "  <thead>\n",
       "    <tr style=\"text-align: right;\">\n",
       "      <th></th>\n",
       "      <th>Age</th>\n",
       "      <th>Gender</th>\n",
       "      <th>Tenure</th>\n",
       "      <th>MonthlyCharges</th>\n",
       "      <th>ContractType</th>\n",
       "      <th>InternetService</th>\n",
       "      <th>TotalCharges</th>\n",
       "      <th>TechSupport</th>\n",
       "      <th>Churn</th>\n",
       "    </tr>\n",
       "  </thead>\n",
       "  <tbody>\n",
       "    <tr>\n",
       "      <th>0</th>\n",
       "      <td>49</td>\n",
       "      <td>Male</td>\n",
       "      <td>4</td>\n",
       "      <td>88.35</td>\n",
       "      <td>Month-to-Month</td>\n",
       "      <td>Fiber Optic</td>\n",
       "      <td>353.40</td>\n",
       "      <td>Yes</td>\n",
       "      <td>Yes</td>\n",
       "    </tr>\n",
       "    <tr>\n",
       "      <th>1</th>\n",
       "      <td>43</td>\n",
       "      <td>Male</td>\n",
       "      <td>0</td>\n",
       "      <td>36.67</td>\n",
       "      <td>Month-to-Month</td>\n",
       "      <td>Fiber Optic</td>\n",
       "      <td>0.00</td>\n",
       "      <td>Yes</td>\n",
       "      <td>Yes</td>\n",
       "    </tr>\n",
       "    <tr>\n",
       "      <th>2</th>\n",
       "      <td>51</td>\n",
       "      <td>Female</td>\n",
       "      <td>2</td>\n",
       "      <td>63.79</td>\n",
       "      <td>Month-to-Month</td>\n",
       "      <td>Fiber Optic</td>\n",
       "      <td>127.58</td>\n",
       "      <td>No</td>\n",
       "      <td>Yes</td>\n",
       "    </tr>\n",
       "    <tr>\n",
       "      <th>3</th>\n",
       "      <td>60</td>\n",
       "      <td>Female</td>\n",
       "      <td>8</td>\n",
       "      <td>102.34</td>\n",
       "      <td>One-Year</td>\n",
       "      <td>DSL</td>\n",
       "      <td>818.72</td>\n",
       "      <td>Yes</td>\n",
       "      <td>Yes</td>\n",
       "    </tr>\n",
       "    <tr>\n",
       "      <th>4</th>\n",
       "      <td>42</td>\n",
       "      <td>Male</td>\n",
       "      <td>32</td>\n",
       "      <td>69.01</td>\n",
       "      <td>Month-to-Month</td>\n",
       "      <td>NaN</td>\n",
       "      <td>2208.32</td>\n",
       "      <td>No</td>\n",
       "      <td>Yes</td>\n",
       "    </tr>\n",
       "  </tbody>\n",
       "</table>\n",
       "</div>"
      ],
      "text/plain": [
       "   Age  Gender  Tenure  MonthlyCharges    ContractType InternetService  \\\n",
       "0   49    Male       4           88.35  Month-to-Month     Fiber Optic   \n",
       "1   43    Male       0           36.67  Month-to-Month     Fiber Optic   \n",
       "2   51  Female       2           63.79  Month-to-Month     Fiber Optic   \n",
       "3   60  Female       8          102.34        One-Year             DSL   \n",
       "4   42    Male      32           69.01  Month-to-Month             NaN   \n",
       "\n",
       "   TotalCharges TechSupport Churn  \n",
       "0        353.40         Yes   Yes  \n",
       "1          0.00         Yes   Yes  \n",
       "2        127.58          No   Yes  \n",
       "3        818.72         Yes   Yes  \n",
       "4       2208.32          No   Yes  "
      ]
     },
     "execution_count": 40,
     "metadata": {},
     "output_type": "execute_result"
    }
   ],
   "source": [
    "df.head()"
   ]
  },
  {
   "cell_type": "code",
   "execution_count": 41,
   "id": "beff3951-12e9-4b75-995d-44f28e318885",
   "metadata": {},
   "outputs": [
    {
     "data": {
      "text/plain": [
       "(1000, 9)"
      ]
     },
     "execution_count": 41,
     "metadata": {},
     "output_type": "execute_result"
    }
   ],
   "source": [
    "df.shape"
   ]
  },
  {
   "cell_type": "code",
   "execution_count": 42,
   "id": "bdf82829-b635-4152-a22d-8c00e562650d",
   "metadata": {},
   "outputs": [
    {
     "data": {
      "text/plain": [
       "Age                  0\n",
       "Gender               0\n",
       "Tenure               0\n",
       "MonthlyCharges       0\n",
       "ContractType         0\n",
       "InternetService    297\n",
       "TotalCharges         0\n",
       "TechSupport          0\n",
       "Churn                0\n",
       "dtype: int64"
      ]
     },
     "execution_count": 42,
     "metadata": {},
     "output_type": "execute_result"
    }
   ],
   "source": [
    "df.isna().sum()"
   ]
  },
  {
   "cell_type": "code",
   "execution_count": 43,
   "id": "7d3a1087-c28e-42da-bde7-9bffebd26d0f",
   "metadata": {},
   "outputs": [
    {
     "data": {
      "text/plain": [
       "InternetService\n",
       "Fiber Optic    395\n",
       "DSL            308\n",
       "Name: count, dtype: int64"
      ]
     },
     "execution_count": 43,
     "metadata": {},
     "output_type": "execute_result"
    }
   ],
   "source": [
    "df['InternetService'].value_counts()"
   ]
  },
  {
   "cell_type": "markdown",
   "id": "c57eba50-9341-4da9-9486-d0d6d3640c96",
   "metadata": {},
   "source": [
    "## Fill with Fiber Optic since it is most used and even though double it by 297 values it will still not have an affect on the ML Model"
   ]
  },
  {
   "cell_type": "code",
   "execution_count": 44,
   "id": "ecc9121f-52ac-4aa5-bb6c-ad3f19a525c5",
   "metadata": {},
   "outputs": [],
   "source": [
    "df['InternetService'] = df['InternetService'].fillna('Fiber Optic')"
   ]
  },
  {
   "cell_type": "code",
   "execution_count": 45,
   "id": "24711ed6-4b3b-4f0c-81f2-d585d6a1bbfa",
   "metadata": {},
   "outputs": [
    {
     "data": {
      "text/plain": [
       "InternetService\n",
       "Fiber Optic    692\n",
       "DSL            308\n",
       "Name: count, dtype: int64"
      ]
     },
     "execution_count": 45,
     "metadata": {},
     "output_type": "execute_result"
    }
   ],
   "source": [
    "df['InternetService'].value_counts()"
   ]
  },
  {
   "cell_type": "code",
   "execution_count": 46,
   "id": "dbfb6c06-09a9-43f6-943d-5aa728632dab",
   "metadata": {},
   "outputs": [
    {
     "data": {
      "text/plain": [
       "Age                0\n",
       "Gender             0\n",
       "Tenure             0\n",
       "MonthlyCharges     0\n",
       "ContractType       0\n",
       "InternetService    0\n",
       "TotalCharges       0\n",
       "TechSupport        0\n",
       "Churn              0\n",
       "dtype: int64"
      ]
     },
     "execution_count": 46,
     "metadata": {},
     "output_type": "execute_result"
    }
   ],
   "source": [
    "df.isna().sum()"
   ]
  },
  {
   "cell_type": "code",
   "execution_count": 47,
   "id": "08666ea3-2cab-46f6-8b12-85651156c241",
   "metadata": {},
   "outputs": [
    {
     "data": {
      "text/plain": [
       "np.int64(0)"
      ]
     },
     "execution_count": 47,
     "metadata": {},
     "output_type": "execute_result"
    }
   ],
   "source": [
    "df.duplicated().sum()"
   ]
  },
  {
   "cell_type": "code",
   "execution_count": 48,
   "id": "6a80d02c-e7e8-4e04-a532-80a8cd78ac22",
   "metadata": {},
   "outputs": [
    {
     "data": {
      "text/plain": [
       "Age                 57\n",
       "Gender               2\n",
       "Tenure              87\n",
       "MonthlyCharges     935\n",
       "ContractType         3\n",
       "InternetService      2\n",
       "TotalCharges       943\n",
       "TechSupport          2\n",
       "Churn                2\n",
       "dtype: int64"
      ]
     },
     "execution_count": 48,
     "metadata": {},
     "output_type": "execute_result"
    }
   ],
   "source": [
    "df.nunique()"
   ]
  },
  {
   "cell_type": "markdown",
   "id": "c0004f95-ad10-439b-a991-639cc155aca4",
   "metadata": {},
   "source": [
    "# EDA "
   ]
  },
  {
   "cell_type": "code",
   "execution_count": 49,
   "id": "072d5e72-5423-4057-8b81-8bd57fcc6a5a",
   "metadata": {},
   "outputs": [
    {
     "data": {
      "image/png": "[encoded data removed]",
      "text/plain": [
       "<Figure size 1500x1000 with 4 Axes>"
      ]
     },
     "metadata": {},
     "output_type": "display_data"
    }
   ],
   "source": [
    "df.hist(bins=60, figsize = (15,10)) \n",
    "plt.show()"
   ]
  },
  {
   "cell_type": "code",
   "execution_count": 50,
   "id": "8902a849-644e-4edc-8719-be9f9a58685e",
   "metadata": {},
   "outputs": [
    {
     "data": {
      "text/html": [
       "<div>\n",
       "<style scoped>\n",
       "    .dataframe tbody tr th:only-of-type {\n",
       "        vertical-align: middle;\n",
       "    }\n",
       "\n",
       "    .dataframe tbody tr th {\n",
       "        vertical-align: top;\n",
       "    }\n",
       "\n",
       "    .dataframe thead th {\n",
       "        text-align: right;\n",
       "    }\n",
       "</style>\n",
       "<table border=\"1\" class=\"dataframe\">\n",
       "  <thead>\n",
       "    <tr style=\"text-align: right;\">\n",
       "      <th></th>\n",
       "      <th>Age</th>\n",
       "      <th>Gender</th>\n",
       "      <th>Tenure</th>\n",
       "      <th>MonthlyCharges</th>\n",
       "      <th>ContractType</th>\n",
       "      <th>InternetService</th>\n",
       "      <th>TotalCharges</th>\n",
       "      <th>TechSupport</th>\n",
       "      <th>Churn</th>\n",
       "    </tr>\n",
       "  </thead>\n",
       "  <tbody>\n",
       "    <tr>\n",
       "      <th>18</th>\n",
       "      <td>35</td>\n",
       "      <td>Male</td>\n",
       "      <td>98</td>\n",
       "      <td>49.59</td>\n",
       "      <td>Two-Year</td>\n",
       "      <td>Fiber Optic</td>\n",
       "      <td>4859.82</td>\n",
       "      <td>Yes</td>\n",
       "      <td>No</td>\n",
       "    </tr>\n",
       "    <tr>\n",
       "      <th>112</th>\n",
       "      <td>45</td>\n",
       "      <td>Female</td>\n",
       "      <td>88</td>\n",
       "      <td>51.73</td>\n",
       "      <td>Month-to-Month</td>\n",
       "      <td>Fiber Optic</td>\n",
       "      <td>4552.24</td>\n",
       "      <td>Yes</td>\n",
       "      <td>Yes</td>\n",
       "    </tr>\n",
       "    <tr>\n",
       "      <th>136</th>\n",
       "      <td>37</td>\n",
       "      <td>Female</td>\n",
       "      <td>82</td>\n",
       "      <td>98.11</td>\n",
       "      <td>Month-to-Month</td>\n",
       "      <td>Fiber Optic</td>\n",
       "      <td>8045.02</td>\n",
       "      <td>No</td>\n",
       "      <td>Yes</td>\n",
       "    </tr>\n",
       "    <tr>\n",
       "      <th>164</th>\n",
       "      <td>54</td>\n",
       "      <td>Male</td>\n",
       "      <td>101</td>\n",
       "      <td>54.78</td>\n",
       "      <td>Month-to-Month</td>\n",
       "      <td>Fiber Optic</td>\n",
       "      <td>5532.78</td>\n",
       "      <td>No</td>\n",
       "      <td>Yes</td>\n",
       "    </tr>\n",
       "    <tr>\n",
       "      <th>233</th>\n",
       "      <td>38</td>\n",
       "      <td>Female</td>\n",
       "      <td>122</td>\n",
       "      <td>69.58</td>\n",
       "      <td>Month-to-Month</td>\n",
       "      <td>DSL</td>\n",
       "      <td>8488.76</td>\n",
       "      <td>No</td>\n",
       "      <td>Yes</td>\n",
       "    </tr>\n",
       "    <tr>\n",
       "      <th>440</th>\n",
       "      <td>48</td>\n",
       "      <td>Male</td>\n",
       "      <td>94</td>\n",
       "      <td>89.57</td>\n",
       "      <td>One-Year</td>\n",
       "      <td>Fiber Optic</td>\n",
       "      <td>8419.58</td>\n",
       "      <td>No</td>\n",
       "      <td>Yes</td>\n",
       "    </tr>\n",
       "    <tr>\n",
       "      <th>493</th>\n",
       "      <td>36</td>\n",
       "      <td>Female</td>\n",
       "      <td>105</td>\n",
       "      <td>118.25</td>\n",
       "      <td>Month-to-Month</td>\n",
       "      <td>DSL</td>\n",
       "      <td>12416.25</td>\n",
       "      <td>Yes</td>\n",
       "      <td>Yes</td>\n",
       "    </tr>\n",
       "    <tr>\n",
       "      <th>540</th>\n",
       "      <td>53</td>\n",
       "      <td>Male</td>\n",
       "      <td>99</td>\n",
       "      <td>113.93</td>\n",
       "      <td>Month-to-Month</td>\n",
       "      <td>Fiber Optic</td>\n",
       "      <td>11279.07</td>\n",
       "      <td>No</td>\n",
       "      <td>Yes</td>\n",
       "    </tr>\n",
       "    <tr>\n",
       "      <th>631</th>\n",
       "      <td>60</td>\n",
       "      <td>Female</td>\n",
       "      <td>83</td>\n",
       "      <td>89.36</td>\n",
       "      <td>Month-to-Month</td>\n",
       "      <td>Fiber Optic</td>\n",
       "      <td>7416.88</td>\n",
       "      <td>Yes</td>\n",
       "      <td>Yes</td>\n",
       "    </tr>\n",
       "  </tbody>\n",
       "</table>\n",
       "</div>"
      ],
      "text/plain": [
       "     Age  Gender  Tenure  MonthlyCharges    ContractType InternetService  \\\n",
       "18    35    Male      98           49.59        Two-Year     Fiber Optic   \n",
       "112   45  Female      88           51.73  Month-to-Month     Fiber Optic   \n",
       "136   37  Female      82           98.11  Month-to-Month     Fiber Optic   \n",
       "164   54    Male     101           54.78  Month-to-Month     Fiber Optic   \n",
       "233   38  Female     122           69.58  Month-to-Month             DSL   \n",
       "440   48    Male      94           89.57        One-Year     Fiber Optic   \n",
       "493   36  Female     105          118.25  Month-to-Month             DSL   \n",
       "540   53    Male      99          113.93  Month-to-Month     Fiber Optic   \n",
       "631   60  Female      83           89.36  Month-to-Month     Fiber Optic   \n",
       "\n",
       "     TotalCharges TechSupport Churn  \n",
       "18        4859.82         Yes    No  \n",
       "112       4552.24         Yes   Yes  \n",
       "136       8045.02          No   Yes  \n",
       "164       5532.78          No   Yes  \n",
       "233       8488.76          No   Yes  \n",
       "440       8419.58          No   Yes  \n",
       "493      12416.25         Yes   Yes  \n",
       "540      11279.07          No   Yes  \n",
       "631       7416.88         Yes   Yes  "
      ]
     },
     "execution_count": 50,
     "metadata": {},
     "output_type": "execute_result"
    }
   ],
   "source": [
    "df[df['Tenure']>81]"
   ]
  },
  {
   "cell_type": "code",
   "execution_count": 51,
   "id": "8a0aff70-ad09-48e9-87f3-98cc4187d14d",
   "metadata": {},
   "outputs": [
    {
     "data": {
      "text/plain": [
       "<Axes: xlabel='Tenure'>"
      ]
     },
     "execution_count": 51,
     "metadata": {},
     "output_type": "execute_result"
    },
    {
     "data": {
      "image/png": "[encoded data removed]",
      "text/plain": [
       "<Figure size 640x480 with 1 Axes>"
      ]
     },
     "metadata": {},
     "output_type": "display_data"
    }
   ],
   "source": [
    "sns.boxplot(x=df['Tenure']) #Maybe drop rows > 60"
   ]
  },
  {
   "cell_type": "code",
   "execution_count": 52,
   "id": "6bbd0fb0-8d1a-4cf9-a996-094fecf6c84f",
   "metadata": {},
   "outputs": [
    {
     "data": {
      "text/html": [
       "<style type=\"text/css\">\n",
       "#T_cafa5_row0_col0, #T_cafa5_row1_col1, #T_cafa5_row2_col2, #T_cafa5_row3_col3 {\n",
       "  background-color: #023858;\n",
       "  color: #f1f1f1;\n",
       "}\n",
       "#T_cafa5_row0_col1 {\n",
       "  background-color: #fdf5fa;\n",
       "  color: #000000;\n",
       "}\n",
       "#T_cafa5_row0_col2 {\n",
       "  background-color: #fcf4fa;\n",
       "  color: #000000;\n",
       "}\n",
       "#T_cafa5_row0_col3, #T_cafa5_row1_col0, #T_cafa5_row1_col2, #T_cafa5_row2_col1, #T_cafa5_row3_col0 {\n",
       "  background-color: #fff7fb;\n",
       "  color: #000000;\n",
       "}\n",
       "#T_cafa5_row1_col3, #T_cafa5_row3_col1 {\n",
       "  background-color: #045483;\n",
       "  color: #f1f1f1;\n",
       "}\n",
       "#T_cafa5_row2_col0 {\n",
       "  background-color: #fef6fa;\n",
       "  color: #000000;\n",
       "}\n",
       "#T_cafa5_row2_col3 {\n",
       "  background-color: #bdc8e1;\n",
       "  color: #000000;\n",
       "}\n",
       "#T_cafa5_row3_col2 {\n",
       "  background-color: #bbc7e0;\n",
       "  color: #000000;\n",
       "}\n",
       "</style>\n",
       "<table id=\"T_cafa5\">\n",
       "  <thead>\n",
       "    <tr>\n",
       "      <th class=\"blank level0\" >&nbsp;</th>\n",
       "      <th id=\"T_cafa5_level0_col0\" class=\"col_heading level0 col0\" >Age</th>\n",
       "      <th id=\"T_cafa5_level0_col1\" class=\"col_heading level0 col1\" >Tenure</th>\n",
       "      <th id=\"T_cafa5_level0_col2\" class=\"col_heading level0 col2\" >MonthlyCharges</th>\n",
       "      <th id=\"T_cafa5_level0_col3\" class=\"col_heading level0 col3\" >TotalCharges</th>\n",
       "    </tr>\n",
       "  </thead>\n",
       "  <tbody>\n",
       "    <tr>\n",
       "      <th id=\"T_cafa5_level0_row0\" class=\"row_heading level0 row0\" >Age</th>\n",
       "      <td id=\"T_cafa5_row0_col0\" class=\"data row0 col0\" >1.000000</td>\n",
       "      <td id=\"T_cafa5_row0_col1\" class=\"data row0 col1\" >0.000472</td>\n",
       "      <td id=\"T_cafa5_row0_col2\" class=\"data row0 col2\" >0.006362</td>\n",
       "      <td id=\"T_cafa5_row0_col3\" class=\"data row0 col3\" >-0.001896</td>\n",
       "    </tr>\n",
       "    <tr>\n",
       "      <th id=\"T_cafa5_level0_row1\" class=\"row_heading level0 row1\" >Tenure</th>\n",
       "      <td id=\"T_cafa5_row1_col0\" class=\"data row1 col0\" >0.000472</td>\n",
       "      <td id=\"T_cafa5_row1_col1\" class=\"data row1 col1\" >1.000000</td>\n",
       "      <td id=\"T_cafa5_row1_col2\" class=\"data row1 col2\" >-0.014552</td>\n",
       "      <td id=\"T_cafa5_row1_col3\" class=\"data row1 col3\" >0.894868</td>\n",
       "    </tr>\n",
       "    <tr>\n",
       "      <th id=\"T_cafa5_level0_row2\" class=\"row_heading level0 row2\" >MonthlyCharges</th>\n",
       "      <td id=\"T_cafa5_row2_col0\" class=\"data row2 col0\" >0.006362</td>\n",
       "      <td id=\"T_cafa5_row2_col1\" class=\"data row2 col1\" >-0.014552</td>\n",
       "      <td id=\"T_cafa5_row2_col2\" class=\"data row2 col2\" >1.000000</td>\n",
       "      <td id=\"T_cafa5_row2_col3\" class=\"data row2 col3\" >0.304893</td>\n",
       "    </tr>\n",
       "    <tr>\n",
       "      <th id=\"T_cafa5_level0_row3\" class=\"row_heading level0 row3\" >TotalCharges</th>\n",
       "      <td id=\"T_cafa5_row3_col0\" class=\"data row3 col0\" >-0.001896</td>\n",
       "      <td id=\"T_cafa5_row3_col1\" class=\"data row3 col1\" >0.894868</td>\n",
       "      <td id=\"T_cafa5_row3_col2\" class=\"data row3 col2\" >0.304893</td>\n",
       "      <td id=\"T_cafa5_row3_col3\" class=\"data row3 col3\" >1.000000</td>\n",
       "    </tr>\n",
       "  </tbody>\n",
       "</table>\n"
      ],
      "text/plain": [
       "<pandas.io.formats.style.Styler at 0x160295fb3e0>"
      ]
     },
     "execution_count": 52,
     "metadata": {},
     "output_type": "execute_result"
    }
   ],
   "source": [
    "df.corr(numeric_only=True).style.background_gradient()"
   ]
  },
  {
   "cell_type": "code",
   "execution_count": 53,
   "id": "fc62c390-f56c-4499-be7f-0ccdf1375f06",
   "metadata": {},
   "outputs": [
    {
     "data": {
      "image/png": "[encoded data removed]",
      "text/plain": [
       "<Figure size 640x480 with 2 Axes>"
      ]
     },
     "metadata": {},
     "output_type": "display_data"
    }
   ],
   "source": [
    "sns.heatmap(df.corr(numeric_only=True), annot = True, cmap='coolwarm', fmt='.2f')\n",
    "plt.title('Numeric correlation')\n",
    "plt.show()"
   ]
  },
  {
   "cell_type": "code",
   "execution_count": 54,
   "id": "8162eaca-3948-42dc-86a9-1df07f3799a3",
   "metadata": {},
   "outputs": [
    {
     "data": {
      "text/plain": [
       "Churn\n",
       "Yes    883\n",
       "No     117\n",
       "Name: count, dtype: int64"
      ]
     },
     "execution_count": 54,
     "metadata": {},
     "output_type": "execute_result"
    }
   ],
   "source": [
    "df['Churn'].value_counts() ##SMOTE / ADASYN"
   ]
  },
  {
   "cell_type": "code",
   "execution_count": 55,
   "id": "625b0875-f9b5-40ac-ac50-5e53feb194a8",
   "metadata": {},
   "outputs": [
    {
     "data": {
      "image/png": "[encoded data removed]",
      "text/plain": [
       "<Figure size 640x480 with 1 Axes>"
      ]
     },
     "metadata": {},
     "output_type": "display_data"
    }
   ],
   "source": [
    "df['Churn'].value_counts().plot(kind='pie')\n",
    "plt.title('Churn (Yes/No)')\n",
    "plt.ylabel('')\n",
    "plt.show()"
   ]
  },
  {
   "cell_type": "code",
   "execution_count": 56,
   "id": "8db5dada-ebe1-4d69-8fa8-b35bd7fca909",
   "metadata": {},
   "outputs": [
    {
     "data": {
      "text/plain": [
       "Churn\n",
       "No     62.54641\n",
       "Yes    75.96077\n",
       "Name: MonthlyCharges, dtype: float64"
      ]
     },
     "execution_count": 56,
     "metadata": {},
     "output_type": "execute_result"
    }
   ],
   "source": [
    "df.groupby('Churn')['MonthlyCharges'].mean()"
   ]
  },
  {
   "cell_type": "code",
   "execution_count": 57,
   "id": "97c3b0a7-ed3f-47f7-b7fb-dd722f6a8541",
   "metadata": {},
   "outputs": [
    {
     "data": {
      "text/plain": [
       "Churn  Gender\n",
       "No     Female    65.091912\n",
       "       Male      59.013878\n",
       "Yes    Female    74.975064\n",
       "       Male      77.082518\n",
       "Name: MonthlyCharges, dtype: float64"
      ]
     },
     "execution_count": 57,
     "metadata": {},
     "output_type": "execute_result"
    }
   ],
   "source": [
    "df.groupby(['Churn','Gender'])['MonthlyCharges'].mean()"
   ]
  },
  {
   "cell_type": "code",
   "execution_count": 58,
   "id": "f1f85420-9bb4-4e2f-9cfc-c4654a137d61",
   "metadata": {},
   "outputs": [
    {
     "data": {
      "text/plain": [
       "Churn\n",
       "No     30.264957\n",
       "Yes    17.476784\n",
       "Name: Tenure, dtype: float64"
      ]
     },
     "execution_count": 58,
     "metadata": {},
     "output_type": "execute_result"
    }
   ],
   "source": [
    "df.groupby('Churn')['Tenure'].mean()"
   ]
  },
  {
   "cell_type": "code",
   "execution_count": 59,
   "id": "2ed6c781-c2dc-4b31-9a64-5995ac45d8bd",
   "metadata": {},
   "outputs": [
    {
     "data": {
      "text/plain": [
       "Churn\n",
       "No     43.487179\n",
       "Yes    44.831257\n",
       "Name: Age, dtype: float64"
      ]
     },
     "execution_count": 59,
     "metadata": {},
     "output_type": "execute_result"
    }
   ],
   "source": [
    "df.groupby('Churn')['Age'].mean()"
   ]
  },
  {
   "cell_type": "code",
   "execution_count": 60,
   "id": "1ecd55e8-975e-4509-aaa2-27a3ae61c4ad",
   "metadata": {},
   "outputs": [
    {
     "data": {
      "image/png": "[encoded data removed]",
      "text/plain": [
       "<Figure size 640x480 with 1 Axes>"
      ]
     },
     "metadata": {},
     "output_type": "display_data"
    }
   ],
   "source": [
    "df.groupby('ContractType')['MonthlyCharges'].mean().plot(kind='bar')\n",
    "plt.title('Contract Type Average Price')\n",
    "plt.ylabel('Mean Price')\n",
    "plt.xlabel('Contract Type')\n",
    "plt.show()"
   ]
  },
  {
   "cell_type": "markdown",
   "id": "ed0dbbc0-a8b3-4552-ab27-25dcc088e22d",
   "metadata": {},
   "source": [
    "## The monthly charge mean decreases at lower terms."
   ]
  },
  {
   "cell_type": "code",
   "execution_count": 61,
   "id": "b7ea0a0b-ba49-4b7e-b5a3-c1163b606bac",
   "metadata": {},
   "outputs": [
    {
     "data": {
      "image/png": "[encoded data removed]",
      "text/plain": [
       "<Figure size 640x480 with 1 Axes>"
      ]
     },
     "metadata": {},
     "output_type": "display_data"
    }
   ],
   "source": [
    "plt.hist(df['MonthlyCharges'])\n",
    "plt.title('Monthly Charges Histogram')\n",
    "plt.show()"
   ]
  },
  {
   "cell_type": "code",
   "execution_count": 62,
   "id": "b18d6285-993f-4513-bdce-98a39799b05d",
   "metadata": {},
   "outputs": [
    {
     "data": {
      "image/png": "[encoded data removed]",
      "text/plain": [
       "<Figure size 640x480 with 1 Axes>"
      ]
     },
     "metadata": {},
     "output_type": "display_data"
    }
   ],
   "source": [
    "plt.hist(df['Tenure'])\n",
    "plt.title('Tenure Histogram')\n",
    "plt.show()"
   ]
  },
  {
   "cell_type": "markdown",
   "id": "04ccefa6-54a2-4679-ad70-263c20b6fb41",
   "metadata": {},
   "source": [
    "# Feature Engineering"
   ]
  },
  {
   "cell_type": "code",
   "execution_count": 63,
   "id": "f8347446-cf4b-462d-8099-eb7b6e83c8e7",
   "metadata": {},
   "outputs": [
    {
     "data": {
      "text/plain": [
       "Age                  int64\n",
       "Gender              object\n",
       "Tenure               int64\n",
       "MonthlyCharges     float64\n",
       "ContractType        object\n",
       "InternetService     object\n",
       "TotalCharges       float64\n",
       "TechSupport         object\n",
       "Churn               object\n",
       "dtype: object"
      ]
     },
     "execution_count": 63,
     "metadata": {},
     "output_type": "execute_result"
    }
   ],
   "source": [
    "df.dtypes"
   ]
  },
  {
   "cell_type": "code",
   "execution_count": 64,
   "id": "702b91b5-1a79-41eb-b665-c0dab52877bf",
   "metadata": {},
   "outputs": [],
   "source": [
    "from sklearn.preprocessing import OneHotEncoder, StandardScaler\n",
    "\n",
    "ohe = OneHotEncoder(sparse_output=False, handle_unknown='ignore')\n",
    "gender_encoded = ohe.fit_transform(df[['Gender']])\n",
    "gender_encoded_df = pd.DataFrame(gender_encoded, columns=ohe.get_feature_names_out(['Gender']), index=df.index)\n",
    "X = pd.concat([df[['Age','MonthlyCharges','Tenure']], gender_encoded_df], axis=1)\n",
    "\n",
    "scaler = StandardScaler()\n",
    "X[['Age','MonthlyCharges','Tenure']] = scaler.fit_transform(X[['Age','MonthlyCharges','Tenure']])\n",
    "y = df['Churn']"
   ]
  },
  {
   "cell_type": "code",
   "execution_count": 65,
   "id": "40199a78-d8eb-4753-a918-06db79ce8db9",
   "metadata": {},
   "outputs": [
    {
     "data": {
      "text/html": [
       "<div>\n",
       "<style scoped>\n",
       "    .dataframe tbody tr th:only-of-type {\n",
       "        vertical-align: middle;\n",
       "    }\n",
       "\n",
       "    .dataframe tbody tr th {\n",
       "        vertical-align: top;\n",
       "    }\n",
       "\n",
       "    .dataframe thead th {\n",
       "        text-align: right;\n",
       "    }\n",
       "</style>\n",
       "<table border=\"1\" class=\"dataframe\">\n",
       "  <thead>\n",
       "    <tr style=\"text-align: right;\">\n",
       "      <th></th>\n",
       "      <th>Age</th>\n",
       "      <th>MonthlyCharges</th>\n",
       "      <th>Tenure</th>\n",
       "      <th>Gender_Female</th>\n",
       "      <th>Gender_Male</th>\n",
       "    </tr>\n",
       "  </thead>\n",
       "  <tbody>\n",
       "    <tr>\n",
       "      <th>0</th>\n",
       "      <td>0.441751</td>\n",
       "      <td>0.543157</td>\n",
       "      <td>-0.792930</td>\n",
       "      <td>0.0</td>\n",
       "      <td>1.0</td>\n",
       "    </tr>\n",
       "    <tr>\n",
       "      <th>1</th>\n",
       "      <td>-0.170941</td>\n",
       "      <td>-1.467799</td>\n",
       "      <td>-1.004760</td>\n",
       "      <td>0.0</td>\n",
       "      <td>1.0</td>\n",
       "    </tr>\n",
       "    <tr>\n",
       "      <th>2</th>\n",
       "      <td>0.645982</td>\n",
       "      <td>-0.412514</td>\n",
       "      <td>-0.898845</td>\n",
       "      <td>1.0</td>\n",
       "      <td>0.0</td>\n",
       "    </tr>\n",
       "    <tr>\n",
       "      <th>3</th>\n",
       "      <td>1.565021</td>\n",
       "      <td>1.087531</td>\n",
       "      <td>-0.581101</td>\n",
       "      <td>1.0</td>\n",
       "      <td>0.0</td>\n",
       "    </tr>\n",
       "    <tr>\n",
       "      <th>4</th>\n",
       "      <td>-0.273057</td>\n",
       "      <td>-0.209395</td>\n",
       "      <td>0.689875</td>\n",
       "      <td>0.0</td>\n",
       "      <td>1.0</td>\n",
       "    </tr>\n",
       "  </tbody>\n",
       "</table>\n",
       "</div>"
      ],
      "text/plain": [
       "        Age  MonthlyCharges    Tenure  Gender_Female  Gender_Male\n",
       "0  0.441751        0.543157 -0.792930            0.0          1.0\n",
       "1 -0.170941       -1.467799 -1.004760            0.0          1.0\n",
       "2  0.645982       -0.412514 -0.898845            1.0          0.0\n",
       "3  1.565021        1.087531 -0.581101            1.0          0.0\n",
       "4 -0.273057       -0.209395  0.689875            0.0          1.0"
      ]
     },
     "execution_count": 65,
     "metadata": {},
     "output_type": "execute_result"
    }
   ],
   "source": [
    "X.head()"
   ]
  },
  {
   "cell_type": "code",
   "execution_count": 66,
   "id": "4cb81e09-21ea-4c7a-b731-278c83ae46c3",
   "metadata": {},
   "outputs": [],
   "source": [
    "from sklearn.preprocessing import LabelEncoder\n",
    "\n",
    "le = LabelEncoder()\n",
    "y= le.fit_transform(df['Churn']) #No = 0 , Yes = 1"
   ]
  },
  {
   "cell_type": "code",
   "execution_count": 67,
   "id": "a9e1b590-27d9-4fb6-8280-8baf2100b5ab",
   "metadata": {},
   "outputs": [],
   "source": [
    "from sklearn.model_selection import train_test_split\n",
    "\n",
    "X_train, X_test, y_train,y_test = train_test_split(X, y, test_size = 0.2, random_state = 69, stratify=y)"
   ]
  },
  {
   "cell_type": "code",
   "execution_count": 68,
   "id": "998d1dd3-440c-45aa-93bb-1d76672da26e",
   "metadata": {},
   "outputs": [],
   "source": [
    "from imblearn.over_sampling import SMOTE #could also use ADAYSYN or any other under/over sampling methods but SMOTE works best :) \n",
    "\n",
    "smote = SMOTE(random_state=69)\n",
    "\n",
    "X_train_smote, y_train_smote = smote.fit_resample(X_train, y_train)"
   ]
  },
  {
   "cell_type": "code",
   "execution_count": 69,
   "id": "89520440-ca67-4f00-8f92-852a24a4056c",
   "metadata": {},
   "outputs": [
    {
     "name": "stdout",
     "output_type": "stream",
     "text": [
      "Before SMOTE: 1    706\n",
      "0     94\n",
      "Name: count, dtype: int64\n",
      "After SMOTE: 1    706\n",
      "0    706\n",
      "Name: count, dtype: int64\n"
     ]
    }
   ],
   "source": [
    "print(\"Before SMOTE:\", pd.Series(y_train).value_counts())\n",
    "print(\"After SMOTE:\", pd.Series(y_train_smote).value_counts())"
   ]
  },
  {
   "cell_type": "code",
   "execution_count": 70,
   "id": "10904112-b199-465f-87c3-dc88de5c089b",
   "metadata": {},
   "outputs": [
    {
     "data": {
      "text/plain": [
       "(800, 5)"
      ]
     },
     "execution_count": 70,
     "metadata": {},
     "output_type": "execute_result"
    }
   ],
   "source": [
    "X_train.shape"
   ]
  },
  {
   "cell_type": "code",
   "execution_count": 71,
   "id": "97ae849c-a5de-4427-8b2f-06b0b9f80c1f",
   "metadata": {},
   "outputs": [
    {
     "data": {
      "text/plain": [
       "(200, 5)"
      ]
     },
     "execution_count": 71,
     "metadata": {},
     "output_type": "execute_result"
    }
   ],
   "source": [
    "X_test.shape"
   ]
  },
  {
   "cell_type": "code",
   "execution_count": 72,
   "id": "0465ad2a-7fdd-42f6-91df-f082ab5db078",
   "metadata": {},
   "outputs": [
    {
     "data": {
      "text/plain": [
       "Age        MonthlyCharges  Tenure     Gender_Female  Gender_Male\n",
       "-2.519596   0.134195       -0.528144  0.0            1.0            1\n",
       " 0.543867  -0.933931        0.107345  0.0            1.0            1\n",
       " 0.339636   0.590629        3.973231  0.0            1.0            1\n",
       "            1.604668        0.795790  1.0            0.0            1\n",
       " 0.441751  -1.222655       -0.951802  0.0            1.0            1\n",
       "                                                                   ..\n",
       "-0.375172  -0.266206        0.583961  0.0            1.0            1\n",
       "            0.608139        0.213259  0.0            1.0            1\n",
       "            1.066519        0.425089  0.0            1.0            1\n",
       "-0.273057  -0.176709        0.954662  1.0            0.0            1\n",
       " 2.075598  -0.536642        0.054387  0.0            1.0            1\n",
       "Name: count, Length: 200, dtype: int64"
      ]
     },
     "execution_count": 72,
     "metadata": {},
     "output_type": "execute_result"
    }
   ],
   "source": [
    "X_test.value_counts()"
   ]
  },
  {
   "cell_type": "markdown",
   "id": "79d72769-a531-43bf-a7ac-1ce78d03dee8",
   "metadata": {},
   "source": [
    "# test without smote to show model accuracy comparison"
   ]
  },
  {
   "cell_type": "code",
   "execution_count": 73,
   "id": "6f790873-9379-442d-9d11-c1453d7a2024",
   "metadata": {},
   "outputs": [
    {
     "name": "stdout",
     "output_type": "stream",
     "text": [
      "accuracy score: 0.88\n",
      "f1 score: 0.9358288770053476\n"
     ]
    }
   ],
   "source": [
    "from sklearn.metrics import accuracy_score, f1_score, roc_auc_score\n",
    "from sklearn.linear_model import LogisticRegression\n",
    "\n",
    "LogR_nosmote = LogisticRegression(max_iter=1000)\n",
    "\n",
    "LogR_nosmote.fit(X_train, y_train)\n",
    "y_pred = LogR_nosmote.predict(X_test)\n",
    "\n",
    "accuracy = accuracy_score(y_test, y_pred)\n",
    "f1 = f1_score(y_test,y_pred)\n",
    "\n",
    "\n",
    "print('accuracy score:' , accuracy)\n",
    "print('f1 score:' , f1)"
   ]
  },
  {
   "cell_type": "code",
   "execution_count": 74,
   "id": "8dd18944-13d4-43b8-bea4-c0c62c493795",
   "metadata": {},
   "outputs": [
    {
     "name": "stdout",
     "output_type": "stream",
     "text": [
      "accuracy score: 0.655\n",
      "f1 score: 0.770764119601329\n"
     ]
    }
   ],
   "source": [
    "logR = LogisticRegression(max_iter = 1000)\n",
    "\n",
    "logR.fit(X_train_smote,y_train_smote)\n",
    "y_pred = logR.predict(X_test)\n",
    "\n",
    "\n",
    "accuracy = accuracy_score(y_test, y_pred)\n",
    "f1 = f1_score(y_test,y_pred)\n",
    "\n",
    "print('accuracy score:' , accuracy)\n",
    "print('f1 score:' , f1)"
   ]
  },
  {
   "cell_type": "code",
   "execution_count": 75,
   "id": "8edd5916-45a7-49f1-8450-93d2c849e759",
   "metadata": {},
   "outputs": [
    {
     "name": "stdout",
     "output_type": "stream",
     "text": [
      "-----Without SMOTE-----\n",
      "              precision    recall  f1-score   support\n",
      "\n",
      "          No       0.33      0.04      0.08        23\n",
      "         Yes       0.89      0.99      0.94       177\n",
      "\n",
      "    accuracy                           0.88       200\n",
      "   macro avg       0.61      0.52      0.51       200\n",
      "weighted avg       0.82      0.88      0.84       200\n",
      "\n",
      "-----With SMOTE-----\n",
      "              precision    recall  f1-score   support\n",
      "\n",
      "          No       0.20      0.65      0.30        23\n",
      "         Yes       0.94      0.66      0.77       177\n",
      "\n",
      "    accuracy                           0.66       200\n",
      "   macro avg       0.57      0.65      0.54       200\n",
      "weighted avg       0.85      0.66      0.72       200\n",
      "\n"
     ]
    }
   ],
   "source": [
    "from sklearn.metrics import classification_report\n",
    "\n",
    "# Without SMOTE\n",
    "y_pred_nosmote = LogR_nosmote.predict(X_test)\n",
    "print(\"-----Without SMOTE-----\")\n",
    "print(classification_report(y_test, y_pred_nosmote, target_names=['No', 'Yes']))\n",
    "\n",
    "# With SMOTE\n",
    "y_pred_smote = logR.predict(X_test)\n",
    "print(\"-----With SMOTE-----\")\n",
    "print(classification_report(y_test, y_pred_smote, target_names=['No', 'Yes']))"
   ]
  },
  {
   "cell_type": "code",
   "execution_count": 76,
   "id": "6a93abc0-b7f7-4d04-9769-1f94ee38e3db",
   "metadata": {},
   "outputs": [
    {
     "data": {
      "text/plain": [
       "<sklearn.metrics._plot.confusion_matrix.ConfusionMatrixDisplay at 0x1602b489580>"
      ]
     },
     "execution_count": 76,
     "metadata": {},
     "output_type": "execute_result"
    },
    {
     "data": {
      "image/png": "[encoded data removed]",
      "text/plain": [
       "<Figure size 640x480 with 2 Axes>"
      ]
     },
     "metadata": {},
     "output_type": "display_data"
    }
   ],
   "source": [
    "from sklearn.metrics import confusion_matrix, ConfusionMatrixDisplay\n",
    "\n",
    "ConfusionMatrixDisplay(confusion_matrix(y_test, y_pred)).plot()"
   ]
  },
  {
   "cell_type": "markdown",
   "id": "cf2de475-6fa0-4829-81dc-bd89b13d7197",
   "metadata": {},
   "source": [
    "True Negatives (TN) = 19 → correctly predicted No\n",
    "\n",
    "False Positives (FP) = 4 → incorrectly predicted Yes\n",
    "\n",
    "False Negatives (FN) = 67 → incorrectly predicted No\n",
    "\n",
    "True Positives (TP) = 110 → correctly predicted Yes"
   ]
  },
  {
   "cell_type": "code",
   "execution_count": 77,
   "id": "9526f10b-34a9-4197-8205-73cd01362ee3",
   "metadata": {},
   "outputs": [
    {
     "name": "stdout",
     "output_type": "stream",
     "text": [
      "----Decision Tree-----\n",
      "Accuracy:  0.76\n",
      "F1 score:  0.8579881656804734\n",
      "\n",
      "----Random Forest-----\n",
      "Accuracy:  0.755\n",
      "F1 score:  0.851963746223565\n",
      "\n",
      "----Gradient Boosting-----\n",
      "Accuracy:  0.74\n",
      "F1 score:  0.8364779874213837\n",
      "\n",
      "----Adaboost-----\n",
      "Accuracy:  0.69\n",
      "F1 score:  0.7876712328767124\n",
      "\n",
      "----SVM-----\n",
      "Accuracy:  0.67\n",
      "F1 score:  0.7857142857142857\n",
      "\n",
      "----KNN-----\n",
      "Accuracy:  0.71\n",
      "F1 score:  0.8141025641025641\n",
      "\n",
      "----XGBoost-----\n",
      "Accuracy:  0.785\n",
      "F1 score:  0.8731563421828908\n",
      "\n"
     ]
    }
   ],
   "source": [
    "from sklearn.tree import DecisionTreeClassifier\n",
    "from sklearn.ensemble import RandomForestClassifier, GradientBoostingClassifier, AdaBoostClassifier\n",
    "from sklearn.svm import SVC\n",
    "from sklearn.neighbors import KNeighborsClassifier\n",
    "from xgboost import XGBClassifier\n",
    "\n",
    "models ={\n",
    "    'Decision Tree': DecisionTreeClassifier(random_state=69),\n",
    "    'Random Forest': RandomForestClassifier(random_state=69),\n",
    "    'Gradient Boosting': GradientBoostingClassifier(random_state=69),\n",
    "    'Adaboost': AdaBoostClassifier(random_state=69), \n",
    "    'SVM': SVC(probability=True, random_state=69),\n",
    "    'KNN': KNeighborsClassifier(),\n",
    "    'XGBoost': XGBClassifier(eval_metric='logloss',random_state=69)\n",
    "}\n",
    "\n",
    "for name, model in models.items():\n",
    "    model.fit(X_train_smote, y_train_smote)\n",
    "    y_pred = model.predict(X_test)\n",
    "    y_prob = model.predict_proba(X_test)[:,1]\n",
    "    print(f\"----{name}-----\")\n",
    "    print('Accuracy: ', accuracy_score(y_test,y_pred))\n",
    "    print('F1 score: ' , f1_score(y_test,y_pred))\n",
    "    print()"
   ]
  },
  {
   "cell_type": "code",
   "execution_count": 78,
   "id": "5e0a29f0-fdf1-410a-92de-118f322b9458",
   "metadata": {},
   "outputs": [
    {
     "name": "stdout",
     "output_type": "stream",
     "text": [
      "Fitting 5 folds for each of 24 candidates, totalling 120 fits\n",
      "Best RFC params: {'max_depth': None, 'min_samples_leaf': 1, 'min_samples_split': 2, 'n_estimators': 100}\n",
      "Best RFC F1:  0.8930238672269206\n",
      "Test Accuracy: 0.755\n",
      "Test F1: 0.851963746223565\n"
     ]
    }
   ],
   "source": [
    "from sklearn.model_selection import GridSearchCV\n",
    "\n",
    "rfc = RandomForestClassifier(random_state=69)\n",
    "\n",
    "rfc_params ={\n",
    "    'n_estimators':[100,200],\n",
    "    'max_depth':[None, 5,10],\n",
    "    'min_samples_split':[2,5],\n",
    "    'min_samples_leaf':[1,2]}\n",
    "\n",
    "grid_rfc = GridSearchCV(\n",
    "    estimator=rfc, \n",
    "    param_grid=rfc_params,\n",
    "    scoring='f1',\n",
    "    cv=5,\n",
    "    n_jobs=-1,\n",
    "    verbose=1)\n",
    "\n",
    "grid_rfc.fit(X_train_smote, y_train_smote)\n",
    "print(\"Best RFC params:\" , grid_rfc.best_params_)\n",
    "print('Best RFC F1: ', grid_rfc.best_score_)\n",
    "y_pred = grid_rfc.predict(X_test)\n",
    "print(\"Test Accuracy:\", accuracy_score(y_test, y_pred))\n",
    "print(\"Test F1:\", f1_score(y_test, y_pred))"
   ]
  },
  {
   "cell_type": "code",
   "execution_count": 79,
   "id": "369d2624-c736-4f77-89b7-6da796d3e3e6",
   "metadata": {},
   "outputs": [
    {
     "name": "stdout",
     "output_type": "stream",
     "text": [
      "Fitting 5 folds for each of 8 candidates, totalling 40 fits\n",
      "Best GB params: {'learning_rate': 0.1, 'max_depth': 5, 'n_estimators': 200}\n",
      "Best GB F1: 0.8861248876905841\n",
      "Test Accuracy: 0.76\n",
      "Test F1: 0.8571428571428571\n"
     ]
    }
   ],
   "source": [
    "gb = GradientBoostingClassifier(random_state=69)\n",
    "\n",
    "gb_params ={\n",
    "    'n_estimators':[100,200],\n",
    "    'learning_rate':[0.05,0.1],\n",
    "    'max_depth':[3,5]}\n",
    "\n",
    "grid_gb = GridSearchCV(\n",
    "    estimator = gb,\n",
    "    param_grid=gb_params,\n",
    "    scoring='f1',\n",
    "    cv=5,\n",
    "    n_jobs=-1,\n",
    "    verbose=1)\n",
    "\n",
    "grid_gb.fit(X_train_smote,y_train_smote)\n",
    "print(\"Best GB params:\", grid_gb.best_params_)\n",
    "print(\"Best GB F1:\", grid_gb.best_score_)\n",
    "y_pred = grid_gb.predict(X_test)\n",
    "print(\"Test Accuracy:\", accuracy_score(y_test, y_pred))\n",
    "print(\"Test F1:\", f1_score(y_test, y_pred))"
   ]
  },
  {
   "cell_type": "code",
   "execution_count": 80,
   "id": "2d77a7d1-b03f-4f4b-a4f2-6a860b89baca",
   "metadata": {},
   "outputs": [
    {
     "name": "stdout",
     "output_type": "stream",
     "text": [
      "Fitting 5 folds for each of 32 candidates, totalling 160 fits\n",
      "Best XBG Params: {'colsample_bytree': 0.7, 'learning_rate': 0.1, 'max_depth': 5, 'n_estimators': 200, 'subsample': 0.7}\n",
      "Best XGB F1: 0.8865303048275596\n",
      "Test Accuracy: 0.79\n",
      "Test F1: 0.8764705882352941\n"
     ]
    }
   ],
   "source": [
    "import xgboost as xgb\n",
    "xgb_model = xgb.XGBClassifier(\n",
    "    objective='binary:logistic',\n",
    "    eval_metric='logloss',\n",
    "    random_state=69)\n",
    "\n",
    "xgb_params={\n",
    "    'n_estimators':[100,200],\n",
    "    'learning_rate':[0.05,0.1],\n",
    "    'max_depth':[3,5],\n",
    "    'subsample':[0.7,1],\n",
    "    'colsample_bytree':[0.7,1]}\n",
    "grid_xgb = GridSearchCV(\n",
    "    estimator = xgb_model,\n",
    "    param_grid=xgb_params,\n",
    "    scoring='f1',\n",
    "    cv=5,\n",
    "    n_jobs=-1,\n",
    "    verbose=1)\n",
    "grid_xgb.fit(X_train_smote,y_train_smote)\n",
    "print(\"Best XBG Params:\", grid_xgb.best_params_)\n",
    "print(\"Best XGB F1:\" ,grid_xgb.best_score_)\n",
    "y_pred = grid_xgb.predict(X_test)\n",
    "print(\"Test Accuracy:\", accuracy_score(y_test, y_pred))\n",
    "print(\"Test F1:\", f1_score(y_test, y_pred))"
   ]
  },
  {
   "cell_type": "code",
   "execution_count": 81,
   "id": "cf4392f4-ae08-4a84-8932-df9a77a80c5f",
   "metadata": {},
   "outputs": [
    {
     "name": "stdout",
     "output_type": "stream",
     "text": [
      "Fitting 5 folds for each of 20 candidates, totalling 100 fits\n",
      "Best RF params (Random): {'max_depth': 14, 'min_samples_leaf': 2, 'min_samples_split': 9, 'n_estimators': 226}\n",
      "Best RF F1 (Random): 0.8656069914097024\n",
      "Test Accuracy: 0.735\n",
      "Test F1: 0.8359133126934984\n"
     ]
    }
   ],
   "source": [
    "from sklearn.model_selection import RandomizedSearchCV\n",
    "from scipy.stats import randint, uniform\n",
    "\n",
    "# Random Forest Randomized Search\n",
    "rfc = RandomForestClassifier(random_state=69)\n",
    "\n",
    "rfc_dist = {\n",
    "    'n_estimators': randint(50, 300),\n",
    "    'max_depth': randint(3, 15),\n",
    "    'min_samples_split': randint(2, 10),\n",
    "    'min_samples_leaf': randint(1, 5)\n",
    "}\n",
    "\n",
    "rand_rfc = RandomizedSearchCV(\n",
    "    estimator=rfc,\n",
    "    param_distributions=rfc_dist,\n",
    "    n_iter=20,\n",
    "    scoring='f1',\n",
    "    cv=5,\n",
    "    random_state=69,\n",
    "    n_jobs=-1,\n",
    "    verbose=1)\n",
    "\n",
    "rand_rfc.fit(X_train_smote, y_train_smote)\n",
    "print(\"Best RF params (Random):\", rand_rfc.best_params_)\n",
    "print(\"Best RF F1 (Random):\", rand_rfc.best_score_)\n",
    "y_pred = rand_rfc.predict(X_test)\n",
    "print(\"Test Accuracy:\", accuracy_score(y_test, y_pred))\n",
    "print(\"Test F1:\", f1_score(y_test, y_pred))"
   ]
  },
  {
   "cell_type": "code",
   "execution_count": 82,
   "id": "be6dfbc7-a697-4741-b554-d7d0067d8ffa",
   "metadata": {},
   "outputs": [
    {
     "data": {
      "image/png": "[encoded data removed]",
      "text/plain": [
       "<Figure size 600x500 with 1 Axes>"
      ]
     },
     "metadata": {},
     "output_type": "display_data"
    }
   ],
   "source": [
    "from sklearn.metrics import roc_curve, auc\n",
    "\n",
    "best_rfc = grid_rfc.best_estimator_\n",
    "\n",
    "y_prob = best_rfc.predict_proba(X_test)[:,1]\n",
    "\n",
    "fpr, tpr, thresholds = roc_curve(y_test, y_prob)\n",
    "roc_auc = auc(fpr, tpr)\n",
    "\n",
    "plt.figure(figsize=(6,5))\n",
    "plt.plot(fpr, tpr, color='darkorange', lw=2, label=f'ROC curve (AUC = {roc_auc:.3f})')\n",
    "plt.plot([0,1], [0,1], color='navy', lw=2, linestyle='--')\n",
    "plt.xlabel('False Positive Rate')\n",
    "plt.ylabel('True Positive Rate')\n",
    "plt.title('RFC ROC Curve')\n",
    "plt.legend(loc='lower right')\n",
    "plt.show()"
   ]
  },
  {
   "cell_type": "code",
   "execution_count": 83,
   "id": "321d196f-ff8f-4348-a8d5-1951f7d01c87",
   "metadata": {},
   "outputs": [
    {
     "data": {
      "image/png": "[encoded data removed]",
      "text/plain": [
       "<Figure size 600x500 with 1 Axes>"
      ]
     },
     "metadata": {},
     "output_type": "display_data"
    }
   ],
   "source": [
    "from sklearn.metrics import roc_curve, auc\n",
    "\n",
    "best_xgb = grid_xgb.best_estimator_\n",
    "\n",
    "y_prob = best_xgb.predict_proba(X_test)[:,1]\n",
    "\n",
    "fpr, tpr, thresholds = roc_curve(y_test, y_prob)\n",
    "roc_auc = auc(fpr, tpr)\n",
    "\n",
    "plt.figure(figsize=(6,5))\n",
    "plt.plot(fpr, tpr, color='darkorange', lw=2, label=f'ROC curve (AUC = {roc_auc:.3f})')\n",
    "plt.plot([0,1], [0,1], color='navy', lw=2, linestyle='--')\n",
    "plt.xlabel('False Positive Rate')\n",
    "plt.ylabel('True Positive Rate')\n",
    "plt.title('XGBoost ROC Curve')\n",
    "plt.legend(loc='lower right')\n",
    "plt.show()"
   ]
  },
  {
   "cell_type": "code",
   "execution_count": 84,
   "id": "1b84631e-b19f-4b16-9a0b-fc55898aa126",
   "metadata": {},
   "outputs": [
    {
     "data": {
      "image/png": "[encoded data removed]",
      "text/plain": [
       "<Figure size 800x500 with 1 Axes>"
      ]
     },
     "metadata": {},
     "output_type": "display_data"
    }
   ],
   "source": [
    "import pandas as pd\n",
    "import matplotlib.pyplot as plt\n",
    "\n",
    "importances = best_xgb.feature_importances_\n",
    "features = X_train.columns\n",
    "\n",
    "feat_df = pd.DataFrame({'Feature': features, 'Importance': importances})\n",
    "feat_df = feat_df.sort_values(by='Importance', ascending=False)\n",
    "\n",
    "plt.figure(figsize=(8,5))\n",
    "plt.barh(feat_df['Feature'], feat_df['Importance'])\n",
    "plt.gca().invert_yaxis()\n",
    "plt.title('XGBoost Feature Importances')\n",
    "plt.show()"
   ]
  },
  {
   "cell_type": "markdown",
   "id": "f5716400-ca92-498e-a323-0a936c5b46ad",
   "metadata": {},
   "source": [
    "### Moving to streamlit now"
   ]
  },
  {
   "cell_type": "code",
   "execution_count": 93,
   "id": "cbfedbda-635d-44f0-9c54-96a8a37943f1",
   "metadata": {},
   "outputs": [
    {
     "data": {
      "text/plain": [
       "['xgb_best_model.pkl']"
      ]
     },
     "execution_count": 93,
     "metadata": {},
     "output_type": "execute_result"
    }
   ],
   "source": [
    "import joblib\n",
    "joblib.dump(best_xgb, 'xgb_best_model.pkl')"
   ]
  },
  {
   "cell_type": "code",
   "execution_count": 92,
   "id": "7b59a79a",
   "metadata": {},
   "outputs": [
    {
     "data": {
      "text/plain": [
       "['scaler.pkl']"
      ]
     },
     "execution_count": 92,
     "metadata": {},
     "output_type": "execute_result"
    }
   ],
   "source": [
    "joblib.dump(scaler, 'scaler.pkl')"
   ]
  },
  {
   "cell_type": "code",
   "execution_count": 95,
   "id": "9aaf51c0",
   "metadata": {},
   "outputs": [
    {
     "data": {
      "text/plain": [
       "['ohe.pkl']"
      ]
     },
     "execution_count": 95,
     "metadata": {},
     "output_type": "execute_result"
    }
   ],
   "source": [
    "joblib.dump(ohe, 'ohe.pkl')"
   ]
  }
 ],
 "metadata": {
  "kernelspec": {
   "display_name": "datasci",
   "language": "python",
   "name": "python3"
  },
  "language_info": {
   "codemirror_mode": {
    "name": "ipython",
    "version": 3
   },
   "file_extension": ".py",
   "mimetype": "text/x-python",
   "name": "python",
   "nbconvert_exporter": "python",
   "pygments_lexer": "ipython3",
   "version": "3.12.7"
  }
 },
 "nbformat": 4,
 "nbformat_minor": 5
}
